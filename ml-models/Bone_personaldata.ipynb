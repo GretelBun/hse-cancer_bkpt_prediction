{
 "cells": [
  {
   "cell_type": "code",
   "execution_count": 23,
   "id": "b877011c",
   "metadata": {},
   "outputs": [],
   "source": [
    "import SparseVector_pb2 as SP\n",
    "from Sparse_vector.sparse_vector import SparseVector\n",
    "from joblib import load\n",
    "import sys\n",
    "from joblib import load\n",
    "from tqdm import trange\n",
    "from tqdm.notebook import tqdm\n",
    "import os\n",
    "import numpy as np\n",
    "import torch\n",
    "import torch.nn as nn\n",
    "import torch.optim as optim\n",
    "from sklearn.model_selection import train_test_split\n",
    "from sklearn.metrics import classification_report, f1_score\n",
    "import matplotlib.pyplot as plt\n",
    "from sklearn.model_selection import StratifiedKFold\n",
    "from sklearn.metrics import f1_score, roc_auc_score, auc\n",
    "from sklearn.metrics import precision_recall_curve"
   ]
  },
  {
   "cell_type": "code",
   "execution_count": 2,
   "id": "939526d5",
   "metadata": {},
   "outputs": [],
   "source": [
    "with open(\"test_bed/files/H3\", mode='rb') as f:\n",
    "    sp = SP.SparseVector()\n",
    "    sp.ParseFromString(f.read())"
   ]
  },
  {
   "cell_type": "code",
   "execution_count": 6,
   "id": "803aa0ef",
   "metadata": {},
   "outputs": [
    {
     "data": {
      "text/plain": [
       "['AAV',\n",
       " 'AGO2',\n",
       " 'AR',\n",
       " 'ARNT',\n",
       " 'ARNTL',\n",
       " 'ATR',\n",
       " 'BMI1',\n",
       " 'BRCA1',\n",
       " 'BRD4',\n",
       " 'CASP8AP2',\n",
       " 'CBFB',\n",
       " 'CBX5',\n",
       " 'CDC73',\n",
       " 'CDK12',\n",
       " 'CEBPB',\n",
       " 'CHD1',\n",
       " 'CLOCK',\n",
       " 'CPSF1',\n",
       " 'CPSF3',\n",
       " 'CPSF6',\n",
       " 'CRY1',\n",
       " 'CSTF2',\n",
       " 'CTCF',\n",
       " 'CTCFL',\n",
       " 'CTR9',\n",
       " 'CUL4A',\n",
       " 'DDIT3',\n",
       " 'DROSHA',\n",
       " 'DTL',\n",
       " 'E2F1',\n",
       " 'E2F3',\n",
       " 'EP300',\n",
       " 'EP400',\n",
       " 'EPAS1',\n",
       " 'Epitope',\n",
       " 'ERCC2',\n",
       " 'ERCC3',\n",
       " 'ERG',\n",
       " 'ESR1',\n",
       " 'ESR2',\n",
       " 'ETV6',\n",
       " 'EWSR1',\n",
       " 'EZH2',\n",
       " 'FANCD2',\n",
       " 'FLI1',\n",
       " 'FOS',\n",
       " 'FOSL1',\n",
       " 'FOSL2',\n",
       " 'FOXM1',\n",
       " 'FOXO1',\n",
       " 'GABPA',\n",
       " 'GLI1',\n",
       " 'GLI2',\n",
       " 'G-quadruplex',\n",
       " 'GTF2F1',\n",
       " 'HIF1A',\n",
       " 'HNF1B',\n",
       " 'HSF1',\n",
       " 'JUNB',\n",
       " 'JUND',\n",
       " 'KLF15',\n",
       " 'KLF4',\n",
       " 'MCM5',\n",
       " 'MED26',\n",
       " 'MEIS1',\n",
       " 'MEN1',\n",
       " 'MYBL2',\n",
       " 'MYC',\n",
       " 'NABP2',\n",
       " 'NAT10',\n",
       " 'NCOA1',\n",
       " 'NELFCD',\n",
       " 'NELFE',\n",
       " 'NKX2-2',\n",
       " 'NPAT',\n",
       " 'NR3C1',\n",
       " 'PAF1',\n",
       " 'PAX8',\n",
       " 'PBXIP1',\n",
       " 'PCNA',\n",
       " 'PPP1R10',\n",
       " 'RAD21',\n",
       " 'RAD51',\n",
       " 'RB1',\n",
       " 'RELA',\n",
       " 'RNF2',\n",
       " 'RUNX2',\n",
       " 'RUVBL2',\n",
       " 'SETDB1',\n",
       " 'SFPQ',\n",
       " 'SIRT3',\n",
       " 'SMAD1',\n",
       " 'SMC1A',\n",
       " 'SSRP1',\n",
       " 'STAG1',\n",
       " 'STAG2',\n",
       " 'STAT3',\n",
       " 'SUMO1',\n",
       " 'SUMO2',\n",
       " 'SUPT5H',\n",
       " 'SUPT6H',\n",
       " 'TAF15',\n",
       " 'TBP',\n",
       " 'TCF4',\n",
       " 'TEAD1',\n",
       " 'TOP1',\n",
       " 'TP53',\n",
       " 'TP73',\n",
       " 'TRIM28',\n",
       " 'TUBG1',\n",
       " 'VRK1',\n",
       " 'WDR5',\n",
       " 'ZBTB17',\n",
       " 'ZBTB48',\n",
       " 'ZMYND11',\n",
       " 'ZNF768',\n",
       " 'CENPB',\n",
       " 'H1.4',\n",
       " 'H2AK119Ub',\n",
       " 'H2AK120Ub',\n",
       " 'H2AT120ph',\n",
       " 'H2Aub',\n",
       " 'H2A.X',\n",
       " 'H2A.XS139ph',\n",
       " 'H2A.Z',\n",
       " 'H2B',\n",
       " 'H2Bub',\n",
       " 'H3',\n",
       " 'H3.3',\n",
       " 'H3K18ac',\n",
       " 'H3K27ac',\n",
       " 'H3K27me3',\n",
       " 'H3K36me2',\n",
       " 'H3K36me3',\n",
       " 'H3K4me1',\n",
       " 'H3K4me2',\n",
       " 'H3K4me3',\n",
       " 'H3K56ac',\n",
       " 'H3K79me2',\n",
       " 'H3K9ac',\n",
       " 'H3K9me2',\n",
       " 'H3K9me3',\n",
       " 'H3R2me2',\n",
       " 'H3S57ph',\n",
       " 'H4',\n",
       " 'H4K16ac',\n",
       " 'H4K20me1',\n",
       " 'H4K20me3',\n",
       " 'HINFP']"
      ]
     },
     "execution_count": 6,
     "metadata": {},
     "output_type": "execute_result"
    }
   ],
   "source": [
    "features = [i for i in os.listdir('test_bed/oth_bon/')]\n",
    "features "
   ]
  },
  {
   "cell_type": "code",
   "execution_count": 7,
   "id": "ef062edf",
   "metadata": {},
   "outputs": [],
   "source": [
    "dna = {}\n",
    "chrom_names = [f'chr{i}' for i in list(range(1, 23)) + ['X', 'Y','M']]"
   ]
  },
  {
   "cell_type": "code",
   "execution_count": 9,
   "id": "90d2bf3a",
   "metadata": {},
   "outputs": [
    {
     "data": {
      "application/vnd.jupyter.widget-view+json": {
       "model_id": "58a2b853dff54a669185bafd4d9d9d31",
       "version_major": 2,
       "version_minor": 0
      },
      "text/plain": [
       "  0%|          | 0/149 [00:00<?, ?it/s]"
      ]
     },
     "metadata": {},
     "output_type": "display_data"
    }
   ],
   "source": [
    "for feat in tqdm(features):\n",
    "    with open(f\"test_bed/oth_bon/{feat}\", mode='rb') as f:\n",
    "        sp = SP.SparseVector()\n",
    "        sp.ParseFromString(f.read())\n",
    "        for key in chrom_names:\n",
    "            data = [0]\n",
    "            data.extend(sp.chromosomes[key].data)\n",
    "            data.append(0)\n",
    "            indices = [0]\n",
    "            indices.extend(sp.chromosomes[key].indices)\n",
    "            indices.append(indices[-1])\n",
    "            shape  = sp.chromosomes[key].size\n",
    "            sparsearray = SparseVector((np.array(data), np.array(indices)), shape)\n",
    "            if feat not in dna:\n",
    "                dna[feat] = {}  # Создание пустого словаря, если ключ отсутствует\n",
    "            dna[feat][key] = sparsearray  # Присваивание значения ключу"
   ]
  },
  {
   "cell_type": "code",
   "execution_count": 10,
   "id": "37b2f306",
   "metadata": {},
   "outputs": [],
   "source": [
    "import urllib.request\n",
    "\n",
    "url = \"https://hgdownload.soe.ucsc.edu/goldenPath/hg38/bigZips/hg38.chrom.sizes\"\n",
    "filename = \"hg38.chrom.sizes\"\n",
    "\n",
    "urllib.request.urlretrieve(url, filename)\n",
    "chrom_sizes_file = \"hg38.chrom.sizes\"\n",
    "\n",
    "def get_chrom_sizes():\n",
    "    chrom_sizes = {}\n",
    "    with open(chrom_sizes_file) as f:\n",
    "        for line in f:\n",
    "            name, size = line.strip().split(\"\\t\")\n",
    "            chrom_sizes[name] = int(size)\n",
    "    return chrom_sizes\n",
    "  \n",
    "chr_size = get_chrom_sizes()"
   ]
  },
  {
   "cell_type": "code",
   "execution_count": 11,
   "id": "19071060",
   "metadata": {},
   "outputs": [],
   "source": [
    "from collections import defaultdict\n",
    "\n",
    "result_dict = defaultdict(set)\n",
    "\n",
    "with open(\"bone.bed\", \"r\") as bed_file:\n",
    "\n",
    "    for line in bed_file:\n",
    "        chrom, start, end = line.strip().split(\"\\t\")[:3]\n",
    "        start, end = int(start), int(end)\n",
    "        result_dict[chrom].update(set(range(start, end+1)))\n"
   ]
  },
  {
   "cell_type": "code",
   "execution_count": 12,
   "id": "cab57a6a",
   "metadata": {},
   "outputs": [
    {
     "data": {
      "application/vnd.jupyter.widget-view+json": {
       "model_id": "740d1eee56414647b20a6fe74871f80b",
       "version_major": 2,
       "version_minor": 0
      },
      "text/plain": [
       "  0%|          | 0/25 [00:00<?, ?it/s]"
      ]
     },
     "metadata": {},
     "output_type": "display_data"
    }
   ],
   "source": [
    "win_in = []\n",
    "win_out = []\n",
    "width = 5000\n",
    "ws = [-20*width, -10*width, -5*width, 5*width, 10*width, 20*width]\n",
    "\n",
    "for chrm in tqdm(chrom_names):\n",
    "    first_time = True\n",
    "    for pos in result_dict[chrm]:  \n",
    "        win_in.append([chrm, max(pos - width//2, 0), min(pos + width//2, chr_size[chrm])])\n",
    "        for w in ws:\n",
    "            if w < 0:\n",
    "                w = abs(w)\n",
    "                pos -= w\n",
    "            else:\n",
    "                pos += w\n",
    "            interval = [min(max(pos - width//2, 0), chr_size[chrm]), max(0, min(pos + width//2, chr_size[chrm]))]\n",
    "            is_in = False\n",
    "            for i in range(interval[0], interval[1]+1):\n",
    "                if interval[0] + i in result_dict[chrm]:\n",
    "                    is_in = True\n",
    "                    break\n",
    "            if not is_in and interval[0] != interval[1]:\n",
    "                win_out.append([chrm, interval[0], interval[1]])"
   ]
  },
  {
   "cell_type": "code",
   "execution_count": 13,
   "id": "e2120efd",
   "metadata": {},
   "outputs": [
    {
     "name": "stdout",
     "output_type": "stream",
     "text": [
      "2424 14517\n"
     ]
    }
   ],
   "source": [
    "print(len(win_in), len(win_out))"
   ]
  },
  {
   "cell_type": "code",
   "execution_count": 14,
   "id": "1782702a",
   "metadata": {},
   "outputs": [],
   "source": [
    "ints_in1 = np.array(win_in)\n",
    "ints_out1 = np.array(win_out)[np.random.choice(range(len(win_out)), size=len(win_in) * 2, replace=False)]"
   ]
  },
  {
   "cell_type": "code",
   "execution_count": 15,
   "id": "c3e9e3b6",
   "metadata": {},
   "outputs": [
    {
     "data": {
      "text/plain": [
       "array([['chr12', '47833964', '47838964', '0'],\n",
       "       ['chr15', '45267509', '45272509', '0'],\n",
       "       ['chr9', '119701794', '119706794', '0'],\n",
       "       ['chr22', '29383120', '29388120', '0'],\n",
       "       ['chr4', '6068333', '6073333', '0'],\n",
       "       ['chr1', '1815149', '1820149', '0'],\n",
       "       ['chr18', '76634016', '76639016', '0'],\n",
       "       ['chr7', '152570131', '152575131', '0'],\n",
       "       ['chr21', '38382787', '38387787', '1'],\n",
       "       ['chr17', '82914133', '82919133', '0']], dtype='<U21')"
      ]
     },
     "execution_count": 15,
     "metadata": {},
     "output_type": "execute_result"
    }
   ],
   "source": [
    "import numpy as np\n",
    "from sklearn.model_selection import StratifiedKFold\n",
    "\n",
    "equalized1 = [[inter[0], int(inter[1]), int(inter[2]), 1] for inter in ints_in1]\n",
    "equalized0 = [[inter[0], int(inter[1]), int(inter[2]), 0] for inter in ints_out1]\n",
    "equalized = np.vstack((equalized1, equalized0))\n",
    "\n",
    "np.random.shuffle(equalized)\n",
    "equalized[0:10]"
   ]
  },
  {
   "cell_type": "code",
   "execution_count": 16,
   "id": "7f6fe1d8",
   "metadata": {},
   "outputs": [
    {
     "name": "stderr",
     "output_type": "stream",
     "text": [
      "100%|███████████████████████████████████████████████████████████████████████████| 7272/7272 [00:47<00:00, 154.57it/s]\n"
     ]
    }
   ],
   "source": [
    "import numpy as np\n",
    "import torch\n",
    "from tqdm import tqdm\n",
    "from sklearn.preprocessing import StandardScaler\n",
    "\n",
    "X = []\n",
    "y = []\n",
    "\n",
    "pbar = tqdm(total=len(equalized))\n",
    "\n",
    "for idx in range(len(equalized)):\n",
    "    pbar.update(1)\n",
    "    inter = equalized[idx]\n",
    "    chrom = inter[0]\n",
    "    begin = int(inter[1])\n",
    "    end = int(inter[2])\n",
    "    target = int(inter[3])\n",
    "    feature_matr = []\n",
    "    for feature in features:\n",
    "        source = dna[feature]\n",
    "        feature_matr.append(source[chrom][begin:end].mean())\n",
    "\n",
    "    if len(feature_matr) > 0:\n",
    "        new_row = np.hstack(np.array(feature_matr).T).astype(np.float32)\n",
    "        X.append(new_row) \n",
    "        y.append(target)\n",
    "    else:\n",
    "        continue \n",
    "\n",
    "pbar.close()"
   ]
  },
  {
   "cell_type": "code",
   "execution_count": 18,
   "id": "a8651adc",
   "metadata": {},
   "outputs": [],
   "source": [
    "X = np.array(X)\n",
    "\n",
    "scaler = StandardScaler()\n",
    "X_normalized = scaler.fit_transform(X)\n",
    "\n",
    "X = torch.tensor(X_normalized, dtype=torch.float)\n",
    "y = torch.tensor(y, dtype=torch.int64)"
   ]
  },
  {
   "cell_type": "code",
   "execution_count": 19,
   "id": "863b0210",
   "metadata": {},
   "outputs": [
    {
     "data": {
      "text/plain": [
       "array([[ 1.221869  , -0.16379432, -0.08878558, ..., -0.23480912,\n",
       "        -0.15170707,  2.2191834 ],\n",
       "       [ 2.7155032 , -0.16379432, -0.2898074 , ..., -0.72444165,\n",
       "         0.20324785,  0.7187941 ],\n",
       "       [-0.9894276 , -0.16379432,  0.4494342 , ..., -0.14413643,\n",
       "        -0.8874318 , -0.52250737],\n",
       "       ...,\n",
       "       [-0.43323946, -0.16379432, -0.30277658, ..., -0.16831581,\n",
       "        -0.8874318 , -0.9401415 ],\n",
       "       [-0.9894276 , -0.16379432,  1.9603403 , ..., -0.72444165,\n",
       "         0.28069255, -0.6423838 ],\n",
       "       [ 2.1951983 , -0.16379432,  1.046015  , ...,  0.09161258,\n",
       "        -0.05490118,  1.0088179 ]], dtype=float32)"
      ]
     },
     "execution_count": 19,
     "metadata": {},
     "output_type": "execute_result"
    }
   ],
   "source": [
    "X = np.array(X)\n",
    "X"
   ]
  },
  {
   "cell_type": "code",
   "execution_count": 21,
   "id": "5fa42cbc",
   "metadata": {},
   "outputs": [
    {
     "name": "stderr",
     "output_type": "stream",
     "text": [
      "2023-05-15 00:58:06.958958: I tensorflow/core/platform/cpu_feature_guard.cc:182] This TensorFlow binary is optimized to use available CPU instructions in performance-critical operations.\n",
      "To enable the following instructions: AVX2 FMA, in other operations, rebuild TensorFlow with the appropriate compiler flags.\n",
      "2023-05-15 00:58:07.719714: W tensorflow/compiler/tf2tensorrt/utils/py_utils.cc:38] TF-TRT Warning: Could not find TensorRT\n",
      "WARNING:absl:`lr` is deprecated in Keras optimizer, please use `learning_rate` or use the legacy optimizer, e.g.,tf.keras.optimizers.legacy.Adam.\n"
     ]
    },
    {
     "name": "stdout",
     "output_type": "stream",
     "text": [
      "Epoch 1/10\n",
      "182/182 [==============================] - 2s 9ms/step - loss: 0.6463 - accuracy: 0.6620 - val_loss: 0.6309 - val_accuracy: 0.6838\n",
      "Epoch 2/10\n",
      "182/182 [==============================] - 2s 8ms/step - loss: 0.6406 - accuracy: 0.6624 - val_loss: 0.6272 - val_accuracy: 0.6838\n",
      "Epoch 3/10\n",
      "182/182 [==============================] - 2s 9ms/step - loss: 0.6405 - accuracy: 0.6624 - val_loss: 0.6243 - val_accuracy: 0.6838\n",
      "Epoch 4/10\n",
      "182/182 [==============================] - 2s 8ms/step - loss: 0.6406 - accuracy: 0.6624 - val_loss: 0.6248 - val_accuracy: 0.6838\n",
      "Epoch 5/10\n",
      "182/182 [==============================] - 2s 9ms/step - loss: 0.6403 - accuracy: 0.6624 - val_loss: 0.6245 - val_accuracy: 0.6838\n",
      "Epoch 6/10\n",
      "182/182 [==============================] - 2s 9ms/step - loss: 0.6398 - accuracy: 0.6624 - val_loss: 0.6270 - val_accuracy: 0.6838\n",
      "Epoch 7/10\n",
      "182/182 [==============================] - 1s 8ms/step - loss: 0.6399 - accuracy: 0.6624 - val_loss: 0.6276 - val_accuracy: 0.6838\n",
      "Epoch 8/10\n",
      "182/182 [==============================] - 1s 8ms/step - loss: 0.6403 - accuracy: 0.6624 - val_loss: 0.6244 - val_accuracy: 0.6838\n",
      "Epoch 9/10\n",
      "182/182 [==============================] - 1s 8ms/step - loss: 0.6399 - accuracy: 0.6624 - val_loss: 0.6270 - val_accuracy: 0.6838\n",
      "Epoch 10/10\n",
      "182/182 [==============================] - 1s 8ms/step - loss: 0.6391 - accuracy: 0.6624 - val_loss: 0.6244 - val_accuracy: 0.6838\n",
      "46/46 [==============================] - 0s 3ms/step\n",
      "ROC-AUC score: 0.5000\n"
     ]
    }
   ],
   "source": [
    "import numpy as np\n",
    "import tensorflow as tf\n",
    "from tensorflow.keras.models import Sequential\n",
    "from tensorflow.keras.layers import SimpleRNN, Dense\n",
    "from tensorflow.keras.optimizers import Adam\n",
    "from sklearn.metrics import roc_auc_score\n",
    "from sklearn.model_selection import train_test_split\n",
    "\n",
    "X_train, X_test, y_train, y_test = train_test_split(X, y, test_size=0.2, random_state=42)\n",
    "y_train = np.array(y_train)\n",
    "y_test = np.array(y_test)\n",
    "\n",
    "X_train = tf.keras.utils.normalize(X_train, axis=1)\n",
    "X_test = tf.keras.utils.normalize(X_test, axis=1)\n",
    "\n",
    "X_train = X_train.reshape(X_train.shape[0], X_train.shape[1], 1)\n",
    "X_test = X_test.reshape(X_test.shape[0], X_test.shape[1], 1)\n",
    "\n",
    "model = Sequential()\n",
    "model.add(SimpleRNN(units=64, activation='relu', input_shape=(X_train.shape[1], 1)))\n",
    "model.add(Dense(1, activation='sigmoid'))\n",
    "\n",
    "model.compile(optimizer=Adam(lr=0.001), loss='binary_crossentropy', metrics=['accuracy'])\n",
    "\n",
    "model.fit(X_train, y_train, epochs=10, batch_size=32, validation_data=(X_test, y_test))\n",
    "\n",
    "y_pred = model.predict(X_test)\n",
    "y_pred = (y_pred > 0.5).astype(int)\n",
    "\n",
    "roc_auc = roc_auc_score(y_test, y_pred)\n",
    "print(\"ROC-AUC score: {:.4f}\".format(roc_auc))"
   ]
  },
  {
   "cell_type": "code",
   "execution_count": 24,
   "id": "4afaf8ec",
   "metadata": {},
   "outputs": [
    {
     "name": "stderr",
     "output_type": "stream",
     "text": [
      "/tmp/ipykernel_2498/1626131257.py:41: UserWarning: To copy construct from a tensor, it is recommended to use sourceTensor.clone().detach() or sourceTensor.clone().detach().requires_grad_(True), rather than torch.tensor(sourceTensor).\n",
      "  y_train = torch.tensor(y_train, dtype=torch.float).to(device)  # Изменение: тип данных float\n",
      "/tmp/ipykernel_2498/1626131257.py:43: UserWarning: To copy construct from a tensor, it is recommended to use sourceTensor.clone().detach() or sourceTensor.clone().detach().requires_grad_(True), rather than torch.tensor(sourceTensor).\n",
      "  y_test = torch.tensor(y_test, dtype=torch.float).to(device)  # Изменение: тип данных float\n"
     ]
    },
    {
     "name": "stdout",
     "output_type": "stream",
     "text": [
      "Epoch [1/20], Train Loss: 0.6850, Train F1-score: 0.5491, Train ROC-AUC: 0.4893, Train PR-AUC: 0.3308, Test Loss: 0.6758, Test F1-score: 0.5555, Test ROC-AUC: 0.5026, Test PR-AUC: 0.3125\n",
      "Epoch [2/20], Train Loss: 0.6715, Train F1-score: 0.5278, Train ROC-AUC: 0.5102, Train PR-AUC: 0.3462, Test Loss: 0.6600, Test F1-score: 0.5555, Test ROC-AUC: 0.4919, Test PR-AUC: 0.3041\n",
      "Epoch [3/20], Train Loss: 0.6589, Train F1-score: 0.5278, Train ROC-AUC: 0.4984, Train PR-AUC: 0.3382, Test Loss: 0.6446, Test F1-score: 0.5555, Test ROC-AUC: 0.4880, Test PR-AUC: 0.3050\n",
      "Epoch [4/20], Train Loss: 0.6472, Train F1-score: 0.5278, Train ROC-AUC: 0.5166, Train PR-AUC: 0.3476, Test Loss: 0.6340, Test F1-score: 0.5555, Test ROC-AUC: 0.4846, Test PR-AUC: 0.3023\n",
      "Epoch [5/20], Train Loss: 0.6423, Train F1-score: 0.5278, Train ROC-AUC: 0.5130, Train PR-AUC: 0.3406, Test Loss: 0.6292, Test F1-score: 0.5555, Test ROC-AUC: 0.4862, Test PR-AUC: 0.3054\n",
      "Epoch [6/20], Train Loss: 0.6390, Train F1-score: 0.5278, Train ROC-AUC: 0.5261, Train PR-AUC: 0.3574, Test Loss: 0.6274, Test F1-score: 0.5555, Test ROC-AUC: 0.4838, Test PR-AUC: 0.3038\n",
      "Epoch [7/20], Train Loss: 0.6368, Train F1-score: 0.5278, Train ROC-AUC: 0.5429, Train PR-AUC: 0.3666, Test Loss: 0.6277, Test F1-score: 0.5555, Test ROC-AUC: 0.4807, Test PR-AUC: 0.2986\n",
      "Epoch [8/20], Train Loss: 0.6370, Train F1-score: 0.5278, Train ROC-AUC: 0.5411, Train PR-AUC: 0.3649, Test Loss: 0.6270, Test F1-score: 0.5555, Test ROC-AUC: 0.4834, Test PR-AUC: 0.2999\n",
      "Epoch [9/20], Train Loss: 0.6370, Train F1-score: 0.5278, Train ROC-AUC: 0.5409, Train PR-AUC: 0.3658, Test Loss: 0.6270, Test F1-score: 0.5555, Test ROC-AUC: 0.4870, Test PR-AUC: 0.3034\n",
      "Epoch [10/20], Train Loss: 0.6366, Train F1-score: 0.5278, Train ROC-AUC: 0.5395, Train PR-AUC: 0.3657, Test Loss: 0.6269, Test F1-score: 0.5555, Test ROC-AUC: 0.4919, Test PR-AUC: 0.3107\n",
      "Epoch [11/20], Train Loss: 0.6346, Train F1-score: 0.5278, Train ROC-AUC: 0.5585, Train PR-AUC: 0.3755, Test Loss: 0.6268, Test F1-score: 0.5555, Test ROC-AUC: 0.4941, Test PR-AUC: 0.3161\n",
      "Epoch [12/20], Train Loss: 0.6347, Train F1-score: 0.5278, Train ROC-AUC: 0.5547, Train PR-AUC: 0.3753, Test Loss: 0.6269, Test F1-score: 0.5555, Test ROC-AUC: 0.4933, Test PR-AUC: 0.3133\n",
      "Epoch [13/20], Train Loss: 0.6336, Train F1-score: 0.5278, Train ROC-AUC: 0.5622, Train PR-AUC: 0.3952, Test Loss: 0.6264, Test F1-score: 0.5555, Test ROC-AUC: 0.4923, Test PR-AUC: 0.3146\n",
      "Epoch [14/20], Train Loss: 0.6341, Train F1-score: 0.5278, Train ROC-AUC: 0.5579, Train PR-AUC: 0.3722, Test Loss: 0.6264, Test F1-score: 0.5555, Test ROC-AUC: 0.4947, Test PR-AUC: 0.3236\n",
      "Epoch [15/20], Train Loss: 0.6325, Train F1-score: 0.5278, Train ROC-AUC: 0.5699, Train PR-AUC: 0.4004, Test Loss: 0.6263, Test F1-score: 0.5555, Test ROC-AUC: 0.4956, Test PR-AUC: 0.3237\n",
      "Epoch [16/20], Train Loss: 0.6327, Train F1-score: 0.5278, Train ROC-AUC: 0.5665, Train PR-AUC: 0.3997, Test Loss: 0.6263, Test F1-score: 0.5555, Test ROC-AUC: 0.4927, Test PR-AUC: 0.3333\n",
      "Epoch [17/20], Train Loss: 0.6322, Train F1-score: 0.5286, Train ROC-AUC: 0.5658, Train PR-AUC: 0.3935, Test Loss: 0.6257, Test F1-score: 0.5555, Test ROC-AUC: 0.4932, Test PR-AUC: 0.3527\n",
      "Epoch [18/20], Train Loss: 0.6330, Train F1-score: 0.5277, Train ROC-AUC: 0.5548, Train PR-AUC: 0.3945, Test Loss: 0.6251, Test F1-score: 0.5555, Test ROC-AUC: 0.4906, Test PR-AUC: 0.3514\n",
      "Epoch [19/20], Train Loss: 0.6297, Train F1-score: 0.5294, Train ROC-AUC: 0.5759, Train PR-AUC: 0.4104, Test Loss: 0.6253, Test F1-score: 0.5555, Test ROC-AUC: 0.4859, Test PR-AUC: 0.3491\n",
      "Epoch [20/20], Train Loss: 0.6289, Train F1-score: 0.5313, Train ROC-AUC: 0.5783, Train PR-AUC: 0.4206, Test Loss: 0.6250, Test F1-score: 0.5555, Test ROC-AUC: 0.4886, Test PR-AUC: 0.3509\n"
     ]
    }
   ],
   "source": [
    "import torch\n",
    "import torch.nn as nn\n",
    "import torch.optim as optim\n",
    "from sklearn.metrics import f1_score\n",
    "from torch.utils.data import DataLoader, TensorDataset\n",
    "from sklearn.model_selection import train_test_split\n",
    "\n",
    "class BiLSTMModel(nn.Module):\n",
    "    def __init__(self, input_size, hidden_size, num_layers, num_classes, dropout_rate=0.5):\n",
    "        super(BiLSTMModel, self).__init__()\n",
    "        self.hidden_size = hidden_size\n",
    "        self.num_layers = num_layers\n",
    "        self.lstm = nn.LSTM(input_size, hidden_size, num_layers, batch_first=True, bidirectional=True)\n",
    "        self.fc = nn.Linear(hidden_size * 2, num_classes)\n",
    "        self.dropout = nn.Dropout(dropout_rate)\n",
    "\n",
    "    def forward(self, x):\n",
    "        h0 = torch.zeros(self.num_layers * 2, x.size(0), self.hidden_size).to(device)\n",
    "        c0 = torch.zeros(self.num_layers * 2, x.size(0), self.hidden_size).to(device)\n",
    "        x = self.dropout(x)\n",
    "        out, _ = self.lstm(x, (h0, c0))\n",
    "        out = self.dropout(out)\n",
    "        out = self.fc(out[:, -1, :])\n",
    "        return out.squeeze(1)\n",
    "\n",
    "input_size = X.shape[1]\n",
    "hidden_size = 128\n",
    "num_layers = 2\n",
    "num_classes = 1\n",
    "num_epochs = 20\n",
    "batch_size = 64\n",
    "learning_rate = 0.0001\n",
    "\n",
    "X_train, X_test, y_train, y_test = train_test_split(X, y, test_size=0.2, random_state=42)\n",
    "\n",
    "device = torch.device('cuda' if torch.cuda.is_available() else 'cpu')\n",
    "\n",
    "X_train = torch.tensor(X_train, dtype=torch.float).view(-1, 1, X.shape[1]).to(device)\n",
    "y_train = torch.tensor(y_train, dtype=torch.float).to(device) \n",
    "X_test = torch.tensor(X_test, dtype=torch.float).view(-1, 1, X.shape[1]).to(device)\n",
    "y_test = torch.tensor(y_test, dtype=torch.float).to(device)\n",
    "\n",
    "train_data = torch.utils.data.TensorDataset(X_train, y_train)\n",
    "data_loader = torch.utils.data.DataLoader(train_data, batch_size=batch_size, shuffle=True)\n",
    "\n",
    "\n",
    "model = BiLSTMModel(input_size, hidden_size, num_layers, num_classes).to(device)\n",
    "criterion = nn.BCEWithLogitsLoss()\n",
    "optimizer = optim.Adam(model.parameters(), lr=learning_rate)\n",
    "\n",
    "train_loss_values = []\n",
    "train_f1_values = []\n",
    "train_roc_auc_values = []\n",
    "train_pr_auc_values = []\n",
    "test_loss_values = []\n",
    "test_f1_values = []\n",
    "test_roc_auc_values = []\n",
    "test_pr_auc_values = []\n",
    "\n",
    "for epoch in range(num_epochs):\n",
    "    model.train()\n",
    "    epoch_loss = 0\n",
    "    true_labels = []\n",
    "    predicted_labels = []\n",
    "    predicted_probs = []\n",
    "\n",
    "    for i, (inputs, labels) in enumerate(data_loader):\n",
    "        inputs = inputs.to(device)\n",
    "        labels = labels.to(device)\n",
    "\n",
    "        outputs = model(inputs)\n",
    "        loss = criterion(outputs, labels)\n",
    "\n",
    "        optimizer.zero_grad()\n",
    "        loss.backward()\n",
    "        optimizer.step()\n",
    "\n",
    "        epoch_loss += loss.item()\n",
    "\n",
    "        probs = torch.sigmoid(outputs).cpu().detach().numpy()\n",
    "        predicted_probs.extend(probs)\n",
    "        preds = (probs > 0.5).astype(int)\n",
    "        true_labels.extend(labels.cpu().numpy())\n",
    "        predicted_labels.extend(preds)\n",
    "\n",
    "    epoch_loss /= len(data_loader)\n",
    "    f1 = f1_score(true_labels, predicted_labels, average='weighted')\n",
    "    roc_auc = roc_auc_score(true_labels, predicted_probs)\n",
    "    pr, re, _ = precision_recall_curve(true_labels, predicted_probs)\n",
    "    pr_auc = auc(re, pr)\n",
    "\n",
    "    # Оценка на тестовом наборе данных\n",
    "    model.eval()\n",
    "    with torch.no_grad():\n",
    "        test_outputs = model(X_test)\n",
    "        test_loss = criterion(test_outputs, y_test)\n",
    "        probs = torch.sigmoid(test_outputs).cpu().detach().numpy()\n",
    "        test_predicted_probs = probs\n",
    "        test_preds = (probs > 0.5).astype(int)\n",
    "        test_true_labels = y_test.cpu().numpy()\n",
    "        test_f1 = f1_score(test_true_labels, test_preds, average='weighted')\n",
    "        test_roc_auc = roc_auc_score(test_true_labels, test_predicted_probs)\n",
    "        test_pr, test_re, _ = precision_recall_curve(test_true_labels, test_predicted_probs)\n",
    "        test_pr_auc = auc(test_re, test_pr)\n",
    "\n",
    "    print(f'Epoch [{epoch+1}/{num_epochs}], Train Loss: {epoch_loss:.4f}, Train F1-score: {f1:.4f}, Train ROC-AUC: {roc_auc:.4f}, Train PR-AUC: {pr_auc:.4f}, Test Loss: {test_loss:.4f}, Test F1-score: {test_f1:.4f}, Test ROC-AUC: {test_roc_auc:.4f}, Test PR-AUC: {test_pr_auc:.4f}')\n",
    "\n",
    "    train_loss_values.append(epoch_loss)\n",
    "    train_f1_values.append(f1)\n",
    "    train_roc_auc_values.append(roc_auc)\n",
    "    train_pr_auc_values.append(pr_auc)\n",
    "    test_loss_values.append(test_loss.item())\n",
    "    test_f1_values.append(test_f1)\n",
    "    test_roc_auc_values.append(test_roc_auc)\n",
    "    test_pr_auc_values.append(test_pr_auc)\n",
    "\n"
   ]
  },
  {
   "cell_type": "code",
   "execution_count": 25,
   "id": "7029fd15",
   "metadata": {},
   "outputs": [
    {
     "data": {
      "image/png": "[encoded data removed]",
      "text/plain": [
       "<Figure size 1500x400 with 3 Axes>"
      ]
     },
     "metadata": {},
     "output_type": "display_data"
    }
   ],
   "source": [
    "\n",
    "fig, (ax1, ax2, ax3) = plt.subplots(1, 3, figsize=(15, 4))\n",
    "\n",
    "ax1.set_title(\"Loss\")\n",
    "ax1.set_xlabel(\"Epoch\")\n",
    "ax1.set_ylabel(\"Loss\")\n",
    "ax1.plot(train_loss_values, label=\"Train\")\n",
    "ax1.plot(test_loss_values, label=\"Test\")\n",
    "ax1.legend()\n",
    "\n",
    "ax2.set_title(\"F1-score\")\n",
    "ax2.set_xlabel(\"Epoch\")\n",
    "ax2.set_ylabel(\"F1-score\")\n",
    "ax2.plot(train_f1_values, label=\"Train\")\n",
    "ax2.plot(test_f1_values, label=\"Test\")\n",
    "ax2.legend()\n",
    "\n",
    "ax3.set_title(\"ROC-AUC and PR-AUC\")\n",
    "ax3.set_xlabel(\"Epoch\")\n",
    "ax3.set_ylabel(\"Score\")\n",
    "ax3.plot(train_roc_auc_values, label=\"Train ROC-AUC\")\n",
    "ax3.plot(train_pr_auc_values, label=\"Train PR-AUC\")\n",
    "ax3.plot(test_roc_auc_values, label=\"Test ROC-AUC\")\n",
    "ax3.plot(test_pr_auc_values, label=\"Test PR-AUC\")\n",
    "ax3.legend()\n",
    "\n",
    "fig.tight_layout()\n",
    "plt.show()"
   ]
  },
  {
   "cell_type": "code",
   "execution_count": 28,
   "id": "9f6ad716",
   "metadata": {},
   "outputs": [],
   "source": [
    "import pandas as pd\n",
    "import torch\n",
    "array = X\n",
    "df_x = pd.DataFrame(array, columns=features)\n",
    "array = y.numpy()\n",
    "df_y = pd.DataFrame(array, columns=['target'])"
   ]
  },
  {
   "cell_type": "code",
   "execution_count": 30,
   "id": "959d3130",
   "metadata": {},
   "outputs": [
    {
     "name": "stdout",
     "output_type": "stream",
     "text": [
      "0:\tlearn: 0.6795706\ttotal: 3.04ms\tremaining: 3.04s\n",
      "200:\tlearn: 0.5421735\ttotal: 536ms\tremaining: 2.14s\n",
      "400:\tlearn: 0.5046717\ttotal: 1.07s\tremaining: 1.61s\n",
      "600:\tlearn: 0.4809603\ttotal: 1.59s\tremaining: 1.06s\n",
      "800:\tlearn: 0.4637495\ttotal: 2.12s\tremaining: 527ms\n",
      "999:\tlearn: 0.4496103\ttotal: 2.65s\tremaining: 0us\n",
      "F1: 0.3311603650586702, AUC-ROC: 0.547591216954337, PR-ROC: 0.34307784738880764\n"
     ]
    }
   ],
   "source": [
    "import catboost as cb\n",
    "from sklearn.metrics import f1_score, roc_auc_score, average_precision_score\n",
    "from sklearn.model_selection import train_test_split\n",
    "\n",
    "X_train, X_test, y_train, y_test = train_test_split(df_x, df_y, test_size=0.2, random_state=42)\n",
    "model = cb.CatBoostClassifier(\n",
    "    iterations=1000, \n",
    "    learning_rate=0.1,\n",
    "    depth=6, \n",
    "    random_seed=42,\n",
    "    verbose=200\n",
    ")\n",
    "model.fit(X_train, y_train)\n",
    "y_pred = model.predict(X_test)\n",
    "f1 = f1_score(y_test, y_pred)\n",
    "auc_roc = roc_auc_score(y_test, y_pred)\n",
    "pr_roc = average_precision_score(y_test, y_pred)\n",
    "\n",
    "print(f\"F1: {f1}, AUC-ROC: {auc_roc}, PR-ROC: {pr_roc}\")"
   ]
  },
  {
   "cell_type": "code",
   "execution_count": null,
   "id": "4bef3200",
   "metadata": {},
   "outputs": [],
   "source": []
  }
 ],
 "metadata": {
  "kernelspec": {
   "display_name": "Python 3 (ipykernel)",
   "language": "python",
   "name": "python3"
  },
  "language_info": {
   "codemirror_mode": {
    "name": "ipython",
    "version": 3
   },
   "file_extension": ".py",
   "mimetype": "text/x-python",
   "name": "python",
   "nbconvert_exporter": "python",
   "pygments_lexer": "ipython3",
   "version": "3.11.3"
  }
 },
 "nbformat": 4,
 "nbformat_minor": 5
}
